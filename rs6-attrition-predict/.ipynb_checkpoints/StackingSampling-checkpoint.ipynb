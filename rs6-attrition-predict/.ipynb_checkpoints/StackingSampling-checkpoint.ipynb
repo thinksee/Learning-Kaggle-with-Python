{
 "cells": [
  {
   "cell_type": "code",
   "execution_count": 1,
   "metadata": {},
   "outputs": [],
   "source": [
    "# This Python 3 environment comes with many helpful analytics libraries installed\n",
    "# It is defined by the kaggle/python docker image: https://github.com/kaggle/docker-python\n",
    "# For example, here's several helpful packages to load in \n",
    "import os\n",
    "import time\n",
    "import numpy as np\n",
    "import pandas as pd\n",
    "from tqdm import tqdm\n",
    "from math import sqrt\n",
    "import lightgbm as lgb\n",
    "import xgboost as xgb\n",
    "from catboost import CatBoostClassifier\n",
    "from lightgbm import LGBMClassifier\n",
    "\n",
    "import scipy.stats as stats\n",
    "from scipy.stats import skew\n",
    "\n",
    "from sklearn.model_selection import train_test_split\n",
    "from sklearn.feature_selection import SelectFromModel\n",
    "from sklearn.ensemble import ExtraTreesClassifier\n",
    "from sklearn.ensemble import RandomForestClassifier\n",
    "\n",
    "from sklearn.linear_model import LogisticRegression\n",
    "\n",
    "from sklearn.metrics import roc_auc_score, auc, roc_curve, recall_score\n",
    "from sklearn.metrics import mean_squared_error\n",
    "from sklearn.metrics import confusion_matrix\n",
    "\n",
    "from sklearn.preprocessing import StandardScaler\n",
    "from sklearn.preprocessing import MinMaxScaler\n",
    "from sklearn.model_selection import StratifiedKFold\n",
    "from sklearn.model_selection import KFold\n",
    "\n",
    "import matplotlib.pyplot as plt\n",
    "import seaborn as sns\n",
    "import matplotlib.pyplot as plt\n",
    "plt.rcParams['font.sans-serif'] = ['SimHei']  # show chinese\n",
    "plt.rcParams['axes.unicode_minus']=False \n",
    "\n",
    "import itertools\n",
    "\n",
    "import gc"
   ]
  },
  {
   "cell_type": "markdown",
   "metadata": {},
   "source": [
    "## Helper Script\n",
    "- Statistic features attribute distribution of each columns **resumetable()**\n",
    "- Plot Confusion matrix **plot_confusion_matrix()**"
   ]
  },
  {
   "cell_type": "code",
   "execution_count": 2,
   "metadata": {},
   "outputs": [],
   "source": [
    "def resumetable(df:pd.DataFrame)-> pd.DataFrame:\n",
    "    print(f\"Dataset Shape: {df.shape}\")\n",
    "    summary = pd.DataFrame(df.dtypes,columns=['dtypes'])\n",
    "    summary = summary.reset_index()\n",
    "    summary['Name'] = summary['index']\n",
    "    summary = summary[['Name','dtypes']]\n",
    "    summary['Missing'] = df.isnull().sum().values    \n",
    "    summary['Uniques'] = df.nunique().values\n",
    "    summary['First Value'] = df.loc[0].values\n",
    "    summary['Second Value'] = df.loc[1].values\n",
    "    summary['Third Value'] = df.loc[2].values\n",
    "\n",
    "    for name in summary['Name'].value_counts().index:\n",
    "        summary.loc[summary['Name'] == name, 'Entropy'] = round(stats.entropy(df[name].value_counts(normalize=True), base=2),2) \n",
    "\n",
    "    return summary"
   ]
  },
  {
   "cell_type": "code",
   "execution_count": 3,
   "metadata": {},
   "outputs": [],
   "source": [
    "# plot confusion matrix\n",
    "def plot_confusion_matrix(cm:np.array, classes:str, normalize=False, title='Confusion matrix', cmap=plt.cm.Blues):\n",
    "    \"\"\"\n",
    "    This function prints and plots the confusion matrix.\n",
    "    Normalization can be applied by setting `normalize=True`.\n",
    "    Input\n",
    "    - cm : 计算出的混淆矩阵的值\n",
    "    - classes : 混淆矩阵中每一行每一列对应的列\n",
    "    - normalize : True:显示百分比, False:显示个数\n",
    "    \"\"\"\n",
    "    if normalize:\n",
    "        cm = cm.astype('float') / cm.sum(axis=1)[:, np.newaxis]\n",
    "        print(\"Normalized confusion matrix\")\n",
    "    else:\n",
    "        print('Confusion matrix, without normalization')\n",
    "    print(cm)\n",
    "    plt.imshow(cm, interpolation='nearest', cmap=cmap)\n",
    "    plt.title(title)\n",
    "    plt.colorbar()\n",
    "    tick_marks = np.arange(len(classes))\n",
    "    plt.xticks(tick_marks, classes, rotation=45)\n",
    "    plt.yticks(tick_marks, classes)\n",
    "    fmt = '.2f' if normalize else 'd'\n",
    "    thresh = cm.max() / 2.\n",
    "    for i, j in itertools.product(range(cm.shape[0]), range(cm.shape[1])):\n",
    "        plt.text(j, i, format(cm[i, j], fmt),\n",
    "                 horizontalalignment=\"center\",\n",
    "                 color=\"white\" if cm[i, j] > thresh else \"black\")\n",
    "    plt.tight_layout()\n",
    "    plt.ylabel('True label')\n",
    "    plt.xlabel('Predicted label')"
   ]
  },
  {
   "cell_type": "code",
   "execution_count": 4,
   "metadata": {},
   "outputs": [],
   "source": [
    "# plot roc\n",
    "def plot_roc_curve(y_pred, y_pred_score):\n",
    "    fpr, tpr, thresholds = roc_curve(y_pred, y_pred_score)\n",
    "    roc_auc = auc(fpr, tpr)\n",
    "    # Plot ROC\n",
    "    plt.title('Receiver Operating Characteristic')\n",
    "    plt.plot(fpr, tpr, 'b',label='AUC = %0.3f'% roc_auc)\n",
    "    plt.legend(loc='lower right')\n",
    "    plt.plot([0,1],[0,1],'r--')\n",
    "    plt.xlim([-0.1,1.0])\n",
    "    plt.ylim([-0.1,1.01])\n",
    "    plt.ylabel('True Positive Rate')\n",
    "    plt.xlabel('False Positive Rate')\n",
    "    plt.show()"
   ]
  },
  {
   "cell_type": "markdown",
   "metadata": {
    "toc-hr-collapsed": false
   },
   "source": [
    "## Feature Extraction\n",
    "- new feature $\\frac{TotalWorkingYears}{NumCompaniesWorked}$"
   ]
  },
  {
   "cell_type": "code",
   "execution_count": 7,
   "metadata": {},
   "outputs": [],
   "source": [
    "train = pd.read_csv(r'data/train.csv')\n",
    "test = pd.read_csv(r'data/test.csv')"
   ]
  },
  {
   "cell_type": "code",
   "execution_count": 12,
   "metadata": {},
   "outputs": [],
   "source": [
    "cat_features = [column for column in train.columns if train[column].dtype == 'object']  # get the non-value features\n",
    "val_features = [column for column in train.columns if column not in cat_features]"
   ]
  },
  {
   "cell_type": "code",
   "execution_count": 37,
   "metadata": {},
   "outputs": [
    {
     "data": {
      "text/plain": [
       "['user_id',\n",
       " 'Age',\n",
       " 'DailyRate',\n",
       " 'DistanceFromHome',\n",
       " 'Education',\n",
       " 'EmployeeCount',\n",
       " 'EmployeeNumber',\n",
       " 'EnvironmentSatisfaction',\n",
       " 'HourlyRate',\n",
       " 'JobInvolvement',\n",
       " 'JobLevel',\n",
       " 'JobSatisfaction',\n",
       " 'MonthlyIncome',\n",
       " 'MonthlyRate',\n",
       " 'NumCompaniesWorked',\n",
       " 'PercentSalaryHike',\n",
       " 'PerformanceRating',\n",
       " 'RelationshipSatisfaction',\n",
       " 'StandardHours',\n",
       " 'StockOptionLevel',\n",
       " 'TotalWorkingYears',\n",
       " 'TrainingTimesLastYear',\n",
       " 'WorkLifeBalance',\n",
       " 'YearsAtCompany',\n",
       " 'YearsInCurrentRole',\n",
       " 'YearsSinceLastPromotion',\n",
       " 'YearsWithCurrManager']"
      ]
     },
     "execution_count": 37,
     "metadata": {},
     "output_type": "execute_result"
    }
   ],
   "source": [
    "val_features"
   ]
  },
  {
   "cell_type": "code",
   "execution_count": 10,
   "metadata": {},
   "outputs": [
    {
     "data": {
      "text/html": [
       "<div>\n",
       "<style scoped>\n",
       "    .dataframe tbody tr th:only-of-type {\n",
       "        vertical-align: middle;\n",
       "    }\n",
       "\n",
       "    .dataframe tbody tr th {\n",
       "        vertical-align: top;\n",
       "    }\n",
       "\n",
       "    .dataframe thead th {\n",
       "        text-align: right;\n",
       "    }\n",
       "</style>\n",
       "<table border=\"1\" class=\"dataframe\">\n",
       "  <thead>\n",
       "    <tr style=\"text-align: right;\">\n",
       "      <th></th>\n",
       "      <th>user_id</th>\n",
       "      <th>Age</th>\n",
       "      <th>Attrition</th>\n",
       "      <th>BusinessTravel</th>\n",
       "      <th>DailyRate</th>\n",
       "      <th>Department</th>\n",
       "      <th>DistanceFromHome</th>\n",
       "      <th>Education</th>\n",
       "      <th>EducationField</th>\n",
       "      <th>EmployeeCount</th>\n",
       "      <th>...</th>\n",
       "      <th>RelationshipSatisfaction</th>\n",
       "      <th>StandardHours</th>\n",
       "      <th>StockOptionLevel</th>\n",
       "      <th>TotalWorkingYears</th>\n",
       "      <th>TrainingTimesLastYear</th>\n",
       "      <th>WorkLifeBalance</th>\n",
       "      <th>YearsAtCompany</th>\n",
       "      <th>YearsInCurrentRole</th>\n",
       "      <th>YearsSinceLastPromotion</th>\n",
       "      <th>YearsWithCurrManager</th>\n",
       "    </tr>\n",
       "  </thead>\n",
       "  <tbody>\n",
       "    <tr>\n",
       "      <td>0</td>\n",
       "      <td>1374</td>\n",
       "      <td>58</td>\n",
       "      <td>No</td>\n",
       "      <td>Travel_Rarely</td>\n",
       "      <td>605</td>\n",
       "      <td>Sales</td>\n",
       "      <td>21</td>\n",
       "      <td>3</td>\n",
       "      <td>Life Sciences</td>\n",
       "      <td>1</td>\n",
       "      <td>...</td>\n",
       "      <td>3</td>\n",
       "      <td>80</td>\n",
       "      <td>1</td>\n",
       "      <td>29</td>\n",
       "      <td>2</td>\n",
       "      <td>2</td>\n",
       "      <td>1</td>\n",
       "      <td>0</td>\n",
       "      <td>0</td>\n",
       "      <td>0</td>\n",
       "    </tr>\n",
       "    <tr>\n",
       "      <td>1</td>\n",
       "      <td>1092</td>\n",
       "      <td>45</td>\n",
       "      <td>No</td>\n",
       "      <td>Travel_Rarely</td>\n",
       "      <td>950</td>\n",
       "      <td>Research &amp; Development</td>\n",
       "      <td>28</td>\n",
       "      <td>3</td>\n",
       "      <td>Technical Degree</td>\n",
       "      <td>1</td>\n",
       "      <td>...</td>\n",
       "      <td>4</td>\n",
       "      <td>80</td>\n",
       "      <td>1</td>\n",
       "      <td>8</td>\n",
       "      <td>3</td>\n",
       "      <td>3</td>\n",
       "      <td>5</td>\n",
       "      <td>4</td>\n",
       "      <td>0</td>\n",
       "      <td>3</td>\n",
       "    </tr>\n",
       "    <tr>\n",
       "      <td>2</td>\n",
       "      <td>768</td>\n",
       "      <td>40</td>\n",
       "      <td>No</td>\n",
       "      <td>Travel_Rarely</td>\n",
       "      <td>300</td>\n",
       "      <td>Sales</td>\n",
       "      <td>26</td>\n",
       "      <td>3</td>\n",
       "      <td>Marketing</td>\n",
       "      <td>1</td>\n",
       "      <td>...</td>\n",
       "      <td>2</td>\n",
       "      <td>80</td>\n",
       "      <td>1</td>\n",
       "      <td>8</td>\n",
       "      <td>3</td>\n",
       "      <td>2</td>\n",
       "      <td>7</td>\n",
       "      <td>7</td>\n",
       "      <td>7</td>\n",
       "      <td>5</td>\n",
       "    </tr>\n",
       "  </tbody>\n",
       "</table>\n",
       "<p>3 rows × 36 columns</p>\n",
       "</div>"
      ],
      "text/plain": [
       "   user_id  Age Attrition BusinessTravel  DailyRate              Department  \\\n",
       "0     1374   58        No  Travel_Rarely        605                   Sales   \n",
       "1     1092   45        No  Travel_Rarely        950  Research & Development   \n",
       "2      768   40        No  Travel_Rarely        300                   Sales   \n",
       "\n",
       "   DistanceFromHome  Education    EducationField  EmployeeCount  ...  \\\n",
       "0                21          3     Life Sciences              1  ...   \n",
       "1                28          3  Technical Degree              1  ...   \n",
       "2                26          3         Marketing              1  ...   \n",
       "\n",
       "   RelationshipSatisfaction  StandardHours StockOptionLevel  \\\n",
       "0                         3             80                1   \n",
       "1                         4             80                1   \n",
       "2                         2             80                1   \n",
       "\n",
       "   TotalWorkingYears  TrainingTimesLastYear  WorkLifeBalance YearsAtCompany  \\\n",
       "0                 29                      2                2              1   \n",
       "1                  8                      3                3              5   \n",
       "2                  8                      3                2              7   \n",
       "\n",
       "   YearsInCurrentRole YearsSinceLastPromotion  YearsWithCurrManager  \n",
       "0                   0                       0                     0  \n",
       "1                   4                       0                     3  \n",
       "2                   7                       7                     5  \n",
       "\n",
       "[3 rows x 36 columns]"
      ]
     },
     "execution_count": 10,
     "metadata": {},
     "output_type": "execute_result"
    }
   ],
   "source": [
    "train.head(3)"
   ]
  },
  {
   "cell_type": "markdown",
   "metadata": {},
   "source": [
    "### Age"
   ]
  },
  {
   "cell_type": "code",
   "execution_count": 36,
   "metadata": {},
   "outputs": [
    {
     "data": {
      "text/plain": [
       "Attrition\n",
       "No     AxesSubplot(0.125,0.125;0.775x0.755)\n",
       "Yes    AxesSubplot(0.125,0.125;0.775x0.755)\n",
       "Name: Age, dtype: object"
      ]
     },
     "execution_count": 36,
     "metadata": {},
     "output_type": "execute_result"
    },
    {
     "data": {
      "image/png": "[encoded data removed]",
      "text/plain": [
       "<Figure size 1440x360 with 1 Axes>"
      ]
     },
     "metadata": {
      "needs_background": "light"
     },
     "output_type": "display_data"
    }
   ],
   "source": [
    "train.groupby('Attrition')['Age'].plot(kind='kde', legend=True, figsize=(20, 5))"
   ]
  },
  {
   "cell_type": "code",
   "execution_count": 30,
   "metadata": {},
   "outputs": [
    {
     "data": {
      "text/html": [
       "<div>\n",
       "<style scoped>\n",
       "    .dataframe tbody tr th:only-of-type {\n",
       "        vertical-align: middle;\n",
       "    }\n",
       "\n",
       "    .dataframe tbody tr th {\n",
       "        vertical-align: top;\n",
       "    }\n",
       "\n",
       "    .dataframe thead th {\n",
       "        text-align: right;\n",
       "    }\n",
       "</style>\n",
       "<table border=\"1\" class=\"dataframe\">\n",
       "  <thead>\n",
       "    <tr style=\"text-align: right;\">\n",
       "      <th>Age</th>\n",
       "      <th>18</th>\n",
       "      <th>19</th>\n",
       "      <th>20</th>\n",
       "      <th>21</th>\n",
       "      <th>22</th>\n",
       "      <th>23</th>\n",
       "      <th>24</th>\n",
       "      <th>25</th>\n",
       "      <th>26</th>\n",
       "      <th>27</th>\n",
       "      <th>...</th>\n",
       "      <th>51</th>\n",
       "      <th>52</th>\n",
       "      <th>53</th>\n",
       "      <th>54</th>\n",
       "      <th>55</th>\n",
       "      <th>56</th>\n",
       "      <th>57</th>\n",
       "      <th>58</th>\n",
       "      <th>59</th>\n",
       "      <th>60</th>\n",
       "    </tr>\n",
       "    <tr>\n",
       "      <th>Attrition</th>\n",
       "      <th></th>\n",
       "      <th></th>\n",
       "      <th></th>\n",
       "      <th></th>\n",
       "      <th></th>\n",
       "      <th></th>\n",
       "      <th></th>\n",
       "      <th></th>\n",
       "      <th></th>\n",
       "      <th></th>\n",
       "      <th></th>\n",
       "      <th></th>\n",
       "      <th></th>\n",
       "      <th></th>\n",
       "      <th></th>\n",
       "      <th></th>\n",
       "      <th></th>\n",
       "      <th></th>\n",
       "      <th></th>\n",
       "      <th></th>\n",
       "      <th></th>\n",
       "    </tr>\n",
       "  </thead>\n",
       "  <tbody>\n",
       "    <tr>\n",
       "      <td>No</td>\n",
       "      <td>3.0</td>\n",
       "      <td>2.0</td>\n",
       "      <td>4.0</td>\n",
       "      <td>6.0</td>\n",
       "      <td>10.0</td>\n",
       "      <td>8.0</td>\n",
       "      <td>16.0</td>\n",
       "      <td>12.0</td>\n",
       "      <td>22.0</td>\n",
       "      <td>37.0</td>\n",
       "      <td>...</td>\n",
       "      <td>13.0</td>\n",
       "      <td>13.0</td>\n",
       "      <td>13.0</td>\n",
       "      <td>14.0</td>\n",
       "      <td>13.0</td>\n",
       "      <td>8.0</td>\n",
       "      <td>3.0</td>\n",
       "      <td>6.0</td>\n",
       "      <td>9.0</td>\n",
       "      <td>4.0</td>\n",
       "    </tr>\n",
       "    <tr>\n",
       "      <td>Yes</td>\n",
       "      <td>4.0</td>\n",
       "      <td>5.0</td>\n",
       "      <td>6.0</td>\n",
       "      <td>6.0</td>\n",
       "      <td>2.0</td>\n",
       "      <td>3.0</td>\n",
       "      <td>5.0</td>\n",
       "      <td>4.0</td>\n",
       "      <td>11.0</td>\n",
       "      <td>3.0</td>\n",
       "      <td>...</td>\n",
       "      <td>2.0</td>\n",
       "      <td>2.0</td>\n",
       "      <td>1.0</td>\n",
       "      <td>NaN</td>\n",
       "      <td>2.0</td>\n",
       "      <td>2.0</td>\n",
       "      <td>NaN</td>\n",
       "      <td>4.0</td>\n",
       "      <td>NaN</td>\n",
       "      <td>NaN</td>\n",
       "    </tr>\n",
       "  </tbody>\n",
       "</table>\n",
       "<p>2 rows × 43 columns</p>\n",
       "</div>"
      ],
      "text/plain": [
       "Age         18   19   20   21    22   23    24    25    26    27  ...    51  \\\n",
       "Attrition                                                         ...         \n",
       "No         3.0  2.0  4.0  6.0  10.0  8.0  16.0  12.0  22.0  37.0  ...  13.0   \n",
       "Yes        4.0  5.0  6.0  6.0   2.0  3.0   5.0   4.0  11.0   3.0  ...   2.0   \n",
       "\n",
       "Age          52    53    54    55   56   57   58   59   60  \n",
       "Attrition                                                   \n",
       "No         13.0  13.0  14.0  13.0  8.0  3.0  6.0  9.0  4.0  \n",
       "Yes         2.0   1.0   NaN   2.0  2.0  NaN  4.0  NaN  NaN  \n",
       "\n",
       "[2 rows x 43 columns]"
      ]
     },
     "execution_count": 30,
     "metadata": {},
     "output_type": "execute_result"
    }
   ],
   "source": [
    "train.groupby(['Attrition'])['Age'].value_counts().unstack()"
   ]
  },
  {
   "cell_type": "code",
   "execution_count": 29,
   "metadata": {},
   "outputs": [
    {
     "data": {
      "text/plain": [
       "<matplotlib.axes._subplots.AxesSubplot at 0x27a91db99c8>"
      ]
     },
     "execution_count": 29,
     "metadata": {},
     "output_type": "execute_result"
    },
    {
     "data": {
      "image/png": "[encoded data removed]",
      "text/plain": [
       "<Figure size 1080x720 with 1 Axes>"
      ]
     },
     "metadata": {
      "needs_background": "light"
     },
     "output_type": "display_data"
    }
   ],
   "source": [
    "train.groupby(['Attrition'])['Age'].value_counts().unstack().plot(kind='bar', figsize=(15, 10))"
   ]
  },
  {
   "cell_type": "markdown",
   "metadata": {},
   "source": [
    "### DailyRate"
   ]
  },
  {
   "cell_type": "code",
   "execution_count": 55,
   "metadata": {},
   "outputs": [
    {
     "data": {
      "text/plain": [
       "<matplotlib.legend.Legend at 0x27a9c1dd148>"
      ]
     },
     "execution_count": 55,
     "metadata": {},
     "output_type": "execute_result"
    },
    {
     "data": {
      "image/png": "[encoded data removed]",
      "text/plain": [
       "<Figure size 432x288 with 1 Axes>"
      ]
     },
     "metadata": {
      "needs_background": "light"
     },
     "output_type": "display_data"
    }
   ],
   "source": [
    "y_dr = train[train['Attrition'] == 'Yes']['DailyRate']\n",
    "n_dr = train[train['Attrition'] == 'No']['DailyRate']\n",
    "sns.distplot(n_dr, kde=False, label='No', color='b')\n",
    "sns.distplot(y_dr, kde=False, label='Yes', color='r')\n",
    "plt.legend()"
   ]
  },
  {
   "cell_type": "code",
   "execution_count": 48,
   "metadata": {},
   "outputs": [
    {
     "data": {
      "text/plain": [
       "0        605\n",
       "1        950\n",
       "2        300\n",
       "3       1434\n",
       "4        599\n",
       "        ... \n",
       "1171    1333\n",
       "1172     528\n",
       "1173    1179\n",
       "1174     268\n",
       "1175     658\n",
       "Name: DailyRate, Length: 1176, dtype: int64"
      ]
     },
     "execution_count": 48,
     "metadata": {},
     "output_type": "execute_result"
    }
   ],
   "source": [
    "train['DailyRate']"
   ]
  },
  {
   "cell_type": "code",
   "execution_count": 41,
   "metadata": {},
   "outputs": [
    {
     "data": {
      "text/plain": [
       "Attrition\n",
       "No     AxesSubplot(0.125,0.125;0.775x0.755)\n",
       "Yes    AxesSubplot(0.125,0.125;0.775x0.755)\n",
       "Name: DailyRate, dtype: object"
      ]
     },
     "execution_count": 41,
     "metadata": {},
     "output_type": "execute_result"
    },
    {
     "data": {
      "image/png": "[encoded data removed]",
      "text/plain": [
       "<Figure size 1440x360 with 1 Axes>"
      ]
     },
     "metadata": {
      "needs_background": "light"
     },
     "output_type": "display_data"
    }
   ],
   "source": [
    "train.groupby('Attrition')['DailyRate'].plot(kind='kde', legend=True, figsize=(20, 5))"
   ]
  },
  {
   "cell_type": "markdown",
   "metadata": {},
   "source": [
    "### DistanceFromHome"
   ]
  },
  {
   "cell_type": "code",
   "execution_count": 56,
   "metadata": {},
   "outputs": [
    {
     "data": {
      "text/plain": [
       "<matplotlib.axes._subplots.AxesSubplot at 0x27a9bca03c8>"
      ]
     },
     "execution_count": 56,
     "metadata": {},
     "output_type": "execute_result"
    },
    {
     "data": {
      "image/png": "[encoded data removed]",
      "text/plain": [
       "<Figure size 1080x720 with 1 Axes>"
      ]
     },
     "metadata": {
      "needs_background": "light"
     },
     "output_type": "display_data"
    }
   ],
   "source": [
    "train.groupby(['Attrition'])['DistanceFromHome'].value_counts().unstack().plot(kind='bar', figsize=(15, 10))"
   ]
  },
  {
   "cell_type": "markdown",
   "metadata": {},
   "source": [
    "### Education"
   ]
  },
  {
   "cell_type": "code",
   "execution_count": 59,
   "metadata": {},
   "outputs": [
    {
     "data": {
      "text/plain": [
       "<matplotlib.axes._subplots.AxesSubplot at 0x27a9c645408>"
      ]
     },
     "execution_count": 59,
     "metadata": {},
     "output_type": "execute_result"
    },
    {
     "data": {
      "image/png": "[encoded data removed]",
      "text/plain": [
       "<Figure size 1080x720 with 1 Axes>"
      ]
     },
     "metadata": {
      "needs_background": "light"
     },
     "output_type": "display_data"
    }
   ],
   "source": [
    "train.groupby(['Attrition'])['Education'].value_counts().unstack().plot(kind='bar', figsize=(15, 10))"
   ]
  },
  {
   "cell_type": "markdown",
   "metadata": {},
   "source": [
    "### EnvironmentSatisfaction"
   ]
  },
  {
   "cell_type": "code",
   "execution_count": 61,
   "metadata": {},
   "outputs": [
    {
     "data": {
      "text/plain": [
       "<matplotlib.axes._subplots.AxesSubplot at 0x27a9cb4cd48>"
      ]
     },
     "execution_count": 61,
     "metadata": {},
     "output_type": "execute_result"
    },
    {
     "data": {
      "image/png": "[encoded data removed]",
      "text/plain": [
       "<Figure size 1080x720 with 1 Axes>"
      ]
     },
     "metadata": {
      "needs_background": "light"
     },
     "output_type": "display_data"
    }
   ],
   "source": [
    "train.groupby(['Attrition'])['EnvironmentSatisfaction'].value_counts().unstack().plot(kind='bar', figsize=(15, 10))"
   ]
  },
  {
   "cell_type": "markdown",
   "metadata": {},
   "source": [
    "### JobInvolvement"
   ]
  },
  {
   "cell_type": "code",
   "execution_count": 62,
   "metadata": {},
   "outputs": [
    {
     "data": {
      "text/plain": [
       "<matplotlib.axes._subplots.AxesSubplot at 0x27a9c92cb48>"
      ]
     },
     "execution_count": 62,
     "metadata": {},
     "output_type": "execute_result"
    },
    {
     "data": {
      "image/png": "[encoded data removed]",
      "text/plain": [
       "<Figure size 1080x720 with 1 Axes>"
      ]
     },
     "metadata": {
      "needs_background": "light"
     },
     "output_type": "display_data"
    }
   ],
   "source": [
    "train.groupby(['Attrition'])['JobInvolvement'].value_counts().unstack().plot(kind='bar', figsize=(15, 10))"
   ]
  },
  {
   "cell_type": "markdown",
   "metadata": {},
   "source": [
    "### JobLevel"
   ]
  },
  {
   "cell_type": "code",
   "execution_count": 63,
   "metadata": {},
   "outputs": [
    {
     "data": {
      "text/plain": [
       "<matplotlib.axes._subplots.AxesSubplot at 0x27a9cde2808>"
      ]
     },
     "execution_count": 63,
     "metadata": {},
     "output_type": "execute_result"
    },
    {
     "data": {
      "image/png": "[encoded data removed]",
      "text/plain": [
       "<Figure size 1080x720 with 1 Axes>"
      ]
     },
     "metadata": {
      "needs_background": "light"
     },
     "output_type": "display_data"
    }
   ],
   "source": [
    "train.groupby(['Attrition'])['JobLevel'].value_counts().unstack().plot(kind='bar', figsize=(15, 10))"
   ]
  },
  {
   "cell_type": "markdown",
   "metadata": {},
   "source": [
    "### JobSatisfaction"
   ]
  },
  {
   "cell_type": "code",
   "execution_count": 65,
   "metadata": {},
   "outputs": [
    {
     "data": {
      "text/plain": [
       "<matplotlib.axes._subplots.AxesSubplot at 0x27a9d08bfc8>"
      ]
     },
     "execution_count": 65,
     "metadata": {},
     "output_type": "execute_result"
    },
    {
     "data": {
      "image/png": "[encoded data removed]",
      "text/plain": [
       "<Figure size 1080x720 with 1 Axes>"
      ]
     },
     "metadata": {
      "needs_background": "light"
     },
     "output_type": "display_data"
    }
   ],
   "source": [
    "train.groupby(['Attrition'])['JobSatisfaction'].value_counts().unstack().plot(kind='bar', figsize=(15, 10))"
   ]
  },
  {
   "cell_type": "markdown",
   "metadata": {},
   "source": [
    "### MonthlyIncome"
   ]
  },
  {
   "cell_type": "code",
   "execution_count": 67,
   "metadata": {},
   "outputs": [
    {
     "data": {
      "text/plain": [
       "<matplotlib.legend.Legend at 0x27a9e840288>"
      ]
     },
     "execution_count": 67,
     "metadata": {},
     "output_type": "execute_result"
    },
    {
     "data": {
      "image/png": "[encoded data removed]",
      "text/plain": [
       "<Figure size 432x288 with 1 Axes>"
      ]
     },
     "metadata": {
      "needs_background": "light"
     },
     "output_type": "display_data"
    }
   ],
   "source": [
    "y_mi = train[train['Attrition'] == 'Yes']['MonthlyIncome']\n",
    "n_mi = train[train['Attrition'] == 'No']['MonthlyIncome']\n",
    "sns.distplot(n_mi, kde=False, label='No', color='b')\n",
    "sns.distplot(y_mi, kde=False, label='Yes', color='r')\n",
    "plt.legend()"
   ]
  },
  {
   "cell_type": "markdown",
   "metadata": {},
   "source": [
    "### NumCompaniesWorked"
   ]
  },
  {
   "cell_type": "code",
   "execution_count": 68,
   "metadata": {},
   "outputs": [
    {
     "data": {
      "text/plain": [
       "<matplotlib.legend.Legend at 0x27a9e8ff288>"
      ]
     },
     "execution_count": 68,
     "metadata": {},
     "output_type": "execute_result"
    },
    {
     "data": {
      "image/png": "[encoded data removed]",
      "text/plain": [
       "<Figure size 432x288 with 1 Axes>"
      ]
     },
     "metadata": {
      "needs_background": "light"
     },
     "output_type": "display_data"
    }
   ],
   "source": [
    "y_nc = train[train['Attrition'] == 'Yes']['NumCompaniesWorked']\n",
    "n_nc = train[train['Attrition'] == 'No']['NumCompaniesWorked']\n",
    "sns.distplot(n_nc, kde=False, label='No', color='b')\n",
    "sns.distplot(y_nc, kde=False, label='Yes', color='r')\n",
    "plt.legend()"
   ]
  },
  {
   "cell_type": "markdown",
   "metadata": {},
   "source": [
    "### TotalWorkingYears"
   ]
  },
  {
   "cell_type": "code",
   "execution_count": 69,
   "metadata": {},
   "outputs": [
    {
     "data": {
      "text/plain": [
       "<matplotlib.legend.Legend at 0x27a9e9bff88>"
      ]
     },
     "execution_count": 69,
     "metadata": {},
     "output_type": "execute_result"
    },
    {
     "data": {
      "image/png": "[encoded data removed]",
      "text/plain": [
       "<Figure size 432x288 with 1 Axes>"
      ]
     },
     "metadata": {
      "needs_background": "light"
     },
     "output_type": "display_data"
    }
   ],
   "source": [
    "y_twy = train[train['Attrition'] == 'Yes']['TotalWorkingYears']\n",
    "n_twy = train[train['Attrition'] == 'No']['TotalWorkingYears']\n",
    "sns.distplot(n_twy, kde=False, label='No', color='b')\n",
    "sns.distplot(y_twy, kde=False, label='Yes', color='r')\n",
    "plt.legend()"
   ]
  },
  {
   "cell_type": "markdown",
   "metadata": {},
   "source": [
    "### PercentSalaryHike"
   ]
  },
  {
   "cell_type": "code",
   "execution_count": 70,
   "metadata": {},
   "outputs": [
    {
     "data": {
      "text/plain": [
       "<matplotlib.legend.Legend at 0x27a9ea9efc8>"
      ]
     },
     "execution_count": 70,
     "metadata": {},
     "output_type": "execute_result"
    },
    {
     "data": {
      "image/png": "[encoded data removed]",
      "text/plain": [
       "<Figure size 432x288 with 1 Axes>"
      ]
     },
     "metadata": {
      "needs_background": "light"
     },
     "output_type": "display_data"
    }
   ],
   "source": [
    "y_rsh = train[train['Attrition'] == 'Yes']['PercentSalaryHike']\n",
    "n_rsh = train[train['Attrition'] == 'No']['PercentSalaryHike']\n",
    "sns.distplot(n_rsh, kde=False, label='No', color='b')\n",
    "sns.distplot(y_rsh, kde=False, label='Yes', color='r')\n",
    "plt.legend()"
   ]
  },
  {
   "cell_type": "markdown",
   "metadata": {},
   "source": [
    "### PerformanceRating"
   ]
  },
  {
   "cell_type": "code",
   "execution_count": 73,
   "metadata": {},
   "outputs": [
    {
     "data": {
      "text/plain": [
       "0       3\n",
       "1       4\n",
       "2       3\n",
       "3       3\n",
       "4       3\n",
       "       ..\n",
       "1171    3\n",
       "1172    3\n",
       "1173    3\n",
       "1174    3\n",
       "1175    3\n",
       "Name: PerformanceRating, Length: 1176, dtype: int64"
      ]
     },
     "execution_count": 73,
     "metadata": {},
     "output_type": "execute_result"
    }
   ],
   "source": [
    "train['PerformanceRating']"
   ]
  },
  {
   "cell_type": "code",
   "execution_count": 72,
   "metadata": {},
   "outputs": [
    {
     "data": {
      "text/plain": [
       "<matplotlib.legend.Legend at 0x27a9eb3e1c8>"
      ]
     },
     "execution_count": 72,
     "metadata": {},
     "output_type": "execute_result"
    },
    {
     "data": {
      "image/png": "[encoded data removed]",
      "text/plain": [
       "<Figure size 432x288 with 1 Axes>"
      ]
     },
     "metadata": {
      "needs_background": "light"
     },
     "output_type": "display_data"
    }
   ],
   "source": [
    "y_pr = train[train['Attrition'] == 'Yes']['PerformanceRating']\n",
    "n_pr = train[train['Attrition'] == 'No']['PerformanceRating']\n",
    "sns.distplot(n_pr, kde=False, label='No', color='b')\n",
    "sns.distplot(y_pr, kde=False, label='Yes', color='r')\n",
    "plt.legend()"
   ]
  },
  {
   "cell_type": "markdown",
   "metadata": {},
   "source": [
    "### StandardHours"
   ]
  },
  {
   "cell_type": "code",
   "execution_count": 77,
   "metadata": {},
   "outputs": [
    {
     "data": {
      "text/plain": [
       "80    1176\n",
       "Name: StandardHours, dtype: int64"
      ]
     },
     "execution_count": 77,
     "metadata": {},
     "output_type": "execute_result"
    }
   ],
   "source": [
    "train['StandardHours'].value_counts()"
   ]
  },
  {
   "cell_type": "code",
   "execution_count": 74,
   "metadata": {},
   "outputs": [
    {
     "data": {
      "text/plain": [
       "<matplotlib.legend.Legend at 0x27a9ec23d08>"
      ]
     },
     "execution_count": 74,
     "metadata": {},
     "output_type": "execute_result"
    },
    {
     "data": {
      "image/png": "[encoded data removed]",
      "text/plain": [
       "<Figure size 432x288 with 1 Axes>"
      ]
     },
     "metadata": {
      "needs_background": "light"
     },
     "output_type": "display_data"
    }
   ],
   "source": [
    "y_sh = train[train['Attrition'] == 'Yes']['StandardHours']\n",
    "n_sh = train[train['Attrition'] == 'No']['StandardHours']\n",
    "sns.distplot(n_sh, kde=False, label='No', color='b')\n",
    "sns.distplot(y_sh, kde=False, label='Yes', color='r')\n",
    "plt.legend()"
   ]
  },
  {
   "cell_type": "markdown",
   "metadata": {},
   "source": [
    "### StockOptionLevel"
   ]
  },
  {
   "cell_type": "code",
   "execution_count": 79,
   "metadata": {},
   "outputs": [
    {
     "data": {
      "text/plain": [
       "0    504\n",
       "1    470\n",
       "2    129\n",
       "3     73\n",
       "Name: StockOptionLevel, dtype: int64"
      ]
     },
     "execution_count": 79,
     "metadata": {},
     "output_type": "execute_result"
    }
   ],
   "source": [
    "train['StockOptionLevel'].value_counts()"
   ]
  },
  {
   "cell_type": "code",
   "execution_count": 78,
   "metadata": {},
   "outputs": [
    {
     "data": {
      "text/plain": [
       "<matplotlib.legend.Legend at 0x27a9f5a3688>"
      ]
     },
     "execution_count": 78,
     "metadata": {},
     "output_type": "execute_result"
    },
    {
     "data": {
      "image/png": "[encoded data removed]",
      "text/plain": [
       "<Figure size 432x288 with 1 Axes>"
      ]
     },
     "metadata": {
      "needs_background": "light"
     },
     "output_type": "display_data"
    }
   ],
   "source": [
    "y_sol = train[train['Attrition'] == 'Yes']['StockOptionLevel']\n",
    "n_sol = train[train['Attrition'] == 'No']['StockOptionLevel']\n",
    "sns.distplot(n_sol, kde=False, label='No', color='b')\n",
    "sns.distplot(y_sol, kde=False, label='Yes', color='r')\n",
    "plt.legend()"
   ]
  },
  {
   "cell_type": "markdown",
   "metadata": {},
   "source": [
    "### WorkLifeBalance"
   ]
  },
  {
   "cell_type": "code",
   "execution_count": 80,
   "metadata": {},
   "outputs": [
    {
     "data": {
      "text/plain": [
       "<matplotlib.legend.Legend at 0x27a9f72e648>"
      ]
     },
     "execution_count": 80,
     "metadata": {},
     "output_type": "execute_result"
    },
    {
     "data": {
      "image/png": "[encoded data removed]",
      "text/plain": [
       "<Figure size 432x288 with 1 Axes>"
      ]
     },
     "metadata": {
      "needs_background": "light"
     },
     "output_type": "display_data"
    }
   ],
   "source": [
    "y_wlb = train[train['Attrition'] == 'Yes']['WorkLifeBalance']\n",
    "n_wlb = train[train['Attrition'] == 'No']['WorkLifeBalance']\n",
    "sns.distplot(n_wlb, kde=False, label='No', color='b')\n",
    "sns.distplot(y_wlb, kde=False, label='Yes', color='r')\n",
    "plt.legend()"
   ]
  },
  {
   "cell_type": "markdown",
   "metadata": {},
   "source": [
    "### YearsAtCompany"
   ]
  },
  {
   "cell_type": "code",
   "execution_count": 81,
   "metadata": {},
   "outputs": [
    {
     "data": {
      "text/plain": [
       "<matplotlib.legend.Legend at 0x27a9f635dc8>"
      ]
     },
     "execution_count": 81,
     "metadata": {},
     "output_type": "execute_result"
    },
    {
     "data": {
      "image/png": "[encoded data removed]",
      "text/plain": [
       "<Figure size 432x288 with 1 Axes>"
      ]
     },
     "metadata": {
      "needs_background": "light"
     },
     "output_type": "display_data"
    }
   ],
   "source": [
    "y_yac = train[train['Attrition'] == 'Yes']['YearsAtCompany']\n",
    "n_yac = train[train['Attrition'] == 'No']['YearsAtCompany']\n",
    "sns.distplot(n_yac, kde=False, label='No', color='b')\n",
    "sns.distplot(y_yac, kde=False, label='Yes', color='r')\n",
    "plt.legend()"
   ]
  },
  {
   "cell_type": "markdown",
   "metadata": {},
   "source": [
    "### YearsInCurrentRole"
   ]
  },
  {
   "cell_type": "code",
   "execution_count": 82,
   "metadata": {},
   "outputs": [
    {
     "data": {
      "text/plain": [
       "<matplotlib.legend.Legend at 0x27a9f613d08>"
      ]
     },
     "execution_count": 82,
     "metadata": {},
     "output_type": "execute_result"
    },
    {
     "data": {
      "image/png": "[encoded data removed]",
      "text/plain": [
       "<Figure size 432x288 with 1 Axes>"
      ]
     },
     "metadata": {
      "needs_background": "light"
     },
     "output_type": "display_data"
    }
   ],
   "source": [
    "y_yicr = train[train['Attrition'] == 'Yes']['YearsInCurrentRole']\n",
    "n_yicr = train[train['Attrition'] == 'No']['YearsInCurrentRole']\n",
    "sns.distplot(n_yicr, kde=False, label='No', color='b')\n",
    "sns.distplot(y_yicr, kde=False, label='Yes', color='r')\n",
    "plt.legend()"
   ]
  },
  {
   "cell_type": "markdown",
   "metadata": {},
   "source": [
    "### YearsSinceLastPromotion"
   ]
  },
  {
   "cell_type": "code",
   "execution_count": 83,
   "metadata": {},
   "outputs": [
    {
     "data": {
      "text/plain": [
       "<matplotlib.legend.Legend at 0x27a9f442d48>"
      ]
     },
     "execution_count": 83,
     "metadata": {},
     "output_type": "execute_result"
    },
    {
     "data": {
      "image/png": "[encoded data removed]",
      "text/plain": [
       "<Figure size 432x288 with 1 Axes>"
      ]
     },
     "metadata": {
      "needs_background": "light"
     },
     "output_type": "display_data"
    }
   ],
   "source": [
    "y_yslp = train[train['Attrition'] == 'Yes']['YearsSinceLastPromotion']\n",
    "n_yslp = train[train['Attrition'] == 'No']['YearsSinceLastPromotion']\n",
    "sns.distplot(n_yslp, kde=False, label='No', color='b')\n",
    "sns.distplot(y_yslp, kde=False, label='Yes', color='r')\n",
    "plt.legend()"
   ]
  },
  {
   "cell_type": "markdown",
   "metadata": {},
   "source": [
    "### YearsWithCurrManager"
   ]
  },
  {
   "cell_type": "code",
   "execution_count": 84,
   "metadata": {},
   "outputs": [
    {
     "data": {
      "text/plain": [
       "<matplotlib.legend.Legend at 0x27aa0bdd208>"
      ]
     },
     "execution_count": 84,
     "metadata": {},
     "output_type": "execute_result"
    },
    {
     "data": {
      "image/png": "[encoded data removed]",
      "text/plain": [
       "<Figure size 432x288 with 1 Axes>"
      ]
     },
     "metadata": {
      "needs_background": "light"
     },
     "output_type": "display_data"
    }
   ],
   "source": [
    "y_ywcm = train[train['Attrition'] == 'Yes']['YearsWithCurrManager']\n",
    "n_ywcm = train[train['Attrition'] == 'No']['YearsWithCurrManager']\n",
    "sns.distplot(n_ywcm, kde=False, label='No', color='b')\n",
    "sns.distplot(y_ywcm, kde=False, label='Yes', color='r')\n",
    "plt.legend()"
   ]
  },
  {
   "cell_type": "code",
   "execution_count": 9,
   "metadata": {},
   "outputs": [
    {
     "data": {
      "image/png": "[encoded data removed]",
      "text/plain": [
       "<Figure size 1440x576 with 8 Axes>"
      ]
     },
     "metadata": {
      "needs_background": "light"
     },
     "output_type": "display_data"
    }
   ],
   "source": [
    "f, ax = plt.subplots(2, 4, figsize=(20, 8))\n",
    "plt.xticks(rotation=60) \n",
    "tick_spacing = 3    # 设置密度，比如横坐标9个，设置这个为3,到时候横坐标上就显示 9/3=3个横坐标，\n",
    "sns.countplot(x='BusinessTravel', hue='Attrition', data=train, ax=ax[0,0])\n",
    "sns.countplot(x='Department', hue='Attrition', data=train, ax=ax[0,1])\n",
    "sns.countplot(x='EducationField', hue='Attrition', data=train, ax=ax[0,2])\n",
    "sns.countplot(x='Gender', hue='Attrition', data=train, ax=ax[0,3])\n",
    "sns.countplot(x='JobRole', hue='Attrition', data=train, ax=ax[1,0])\n",
    "sns.countplot(x='MaritalStatus', hue='Attrition', data=train, ax=ax[1,1])\n",
    "sns.countplot(x='Over18', hue='Attrition', data=train, ax=ax[1,2])\n",
    "sns.countplot(x='OverTime', hue='Attrition', data=train, ax=ax[1,3])\n",
    "\n",
    "plt.subplots_adjust(wspace =0.2, hspace =0.5)#调整子图间距\n",
    "ax[0,0].set_title('BusinessTravel Feature Analytics')\n",
    "ax[0,1].set_title('Department Feature Analytics')\n",
    "ax[0,2].set_title('EducationField Feature Analytics')\n",
    "ax[0,3].set_title('Gender Feature Analytics')\n",
    "ax[1,0].set_title('JobRole Feature Analytics')\n",
    "ax[1,1].set_title('MaritalStatus Feature Analytics')\n",
    "ax[1,2].set_title('Over18 Feature Analytics')\n",
    "ax[1,3].set_title('OverTime Feature Analytics')\n",
    "f.suptitle('Object Feature Visualize', size=20, y=1.1)\n",
    "f.tight_layout()#调整整体空白\n",
    "# todo 标签旋转"
   ]
  },
  {
   "cell_type": "code",
   "execution_count": null,
   "metadata": {},
   "outputs": [],
   "source": [
    "def extract_features_v1(df, is_train=False):\n",
    "    # target\n",
    "    if is_train:\n",
    "        attrition_dict = {'No':0,'Yes':1}\n",
    "        df['Attrition'] = df['Attrition'].map(lambda x: attrition_dict[x])\n",
    "    # BusinessTravel\n",
    "    businesstravel_dict = {'Non-Travel':0, 'Travel_Rarely':1, 'Travel_Frequently':2}\n",
    "    df['BusinessTravel'] = df['BusinessTravel'].map(lambda x: businesstravel_dict[x])\n",
    "    # Department\n",
    "    department_dict = {'Sales':0, 'Research & Development':1, 'Human Resources':2}\n",
    "    df['Department'] = df['Department'].map(lambda x: department_dict[x])\n",
    "    # EducationField\n",
    "    educationfield_dict = {'Life Sciences':0, 'Medical':1, 'Marketing':2, 'Technical Degree':3, 'Human Resources':4, 'Other':5}\n",
    "    df['EducationField'] = df['EducationField'].map(lambda x: educationfield_dict[x])\n",
    "    # Gender\n",
    "    gender_dict = {'Male':0, 'Female': 1}\n",
    "    df['Gender'] = df['Gender'].map(lambda x: gender_dict[x])\n",
    "    # JobRole\n",
    "    jobrole_dict = {'Sales Executive':0, \n",
    "                    'Research Scientist':1, \n",
    "                    'Laboratory Technician':2, \n",
    "                    'Manufacturing Director':3, \n",
    "                    'Healthcare Representative':4,\n",
    "                    'Manager':5, \n",
    "                    'Sales Representative':6,\n",
    "                    'Research Director':7,\n",
    "                    'Human Resources':8\n",
    "                   }\n",
    "    df['JobRole'] = df['JobRole'].map(lambda x: jobrole_dict[x])\n",
    "    # MaritalStatus\n",
    "    maritalstatus_dict = {'Single':0, 'Married':1, 'Divorced':2}\n",
    "    df['MaritalStatus'] = df['MaritalStatus'].map(lambda x: maritalstatus_dict[x])\n",
    "    # Over18\n",
    "    df = df.drop(['Over18'], axis=1)\n",
    "    # OverTime\n",
    "    overtime_dict = {'Yes':0, 'No':1}\n",
    "    df['OverTime'] = df['OverTime'].map(lambda x: overtime_dict[x])\n",
    "    return df"
   ]
  },
  {
   "cell_type": "code",
   "execution_count": null,
   "metadata": {},
   "outputs": [],
   "source": [
    "def extract_features_v2(df, is_train=False):\n",
    "    # target\n",
    "    if is_train:\n",
    "        attrition_dict = {'No':0,'Yes':1}\n",
    "        df['Attrition'] = df['Attrition'].map(lambda x: attrition_dict[x])\n",
    "    # BusinessTravel\n",
    "    businesstravel_dict = {'Non-Travel':, 'Travel_Rarely':1, 'Travel_Frequently':2}\n",
    "    df['BusinessTravel'] = df['BusinessTravel'].map(lambda x: businesstravel_dict[x])\n",
    "    # Department\n",
    "    department_dict = {'Sales':0, 'Research & Development':1, 'Human Resources':2}\n",
    "    df['Department'] = df['Department'].map(lambda x: department_dict[x])\n",
    "    # EducationField\n",
    "    educationfield_dict = {'Life Sciences':0, 'Medical':1, 'Marketing':2, 'Technical Degree':3, 'Human Resources':4, 'Other':5}\n",
    "    df['EducationField'] = df['EducationField'].map(lambda x: educationfield_dict[x])\n",
    "    # Gender\n",
    "    gender_dict = {'Male':0, 'Female': 1}\n",
    "    df['Gender'] = df['Gender'].map(lambda x: gender_dict[x])\n",
    "    # JobRole\n",
    "    jobrole_dict = {'Sales Executive':0, \n",
    "                    'Research Scientist':1, \n",
    "                    'Laboratory Technician':2, \n",
    "                    'Manufacturing Director':3, \n",
    "                    'Healthcare Representative':4,\n",
    "                    'Manager':5, \n",
    "                    'Sales Representative':6,\n",
    "                    'Research Director':7,\n",
    "                    'Human Resources':8\n",
    "                   }\n",
    "    df['JobRole'] = df['JobRole'].map(lambda x: jobrole_dict[x])\n",
    "    # MaritalStatus\n",
    "    maritalstatus_dict = {'Single':0, 'Married':1, 'Divorced':2}\n",
    "    df['MaritalStatus'] = df['MaritalStatus'].map(lambda x: maritalstatus_dict[x])\n",
    "    # Over18\n",
    "    df = df.drop(['Over18'], axis=1)\n",
    "    # OverTime\n",
    "    overtime_dict = {'Yes':0, 'No':1}\n",
    "    df['OverTime'] = df['OverTime'].map(lambda x: overtime_dict[x])\n",
    "    return df"
   ]
  },
  {
   "cell_type": "code",
   "execution_count": null,
   "metadata": {},
   "outputs": [],
   "source": [
    "train_ex = extract_features(train, True)\n",
    "test_ex = extract_features(test, False)"
   ]
  },
  {
   "cell_type": "markdown",
   "metadata": {},
   "source": [
    "## Single Model\n",
    "- use the xgboost model as the baseline model\n",
    "- try to use svm linear kernel"
   ]
  },
  {
   "cell_type": "markdown",
   "metadata": {},
   "source": [
    "### xgboost"
   ]
  },
  {
   "cell_type": "markdown",
   "metadata": {},
   "source": [
    "#### Define model input and target"
   ]
  },
  {
   "cell_type": "code",
   "execution_count": null,
   "metadata": {},
   "outputs": [],
   "source": [
    "target = 'Attrition'  # model target (y)\n",
    "features = [x for x in train_ex.columns if x not in ['Attrition', 'uesr_id', 'user_id']]  # delete invaild features / model input"
   ]
  },
  {
   "cell_type": "code",
   "execution_count": null,
   "metadata": {},
   "outputs": [],
   "source": [
    "train_x = train_ex[features]\n",
    "train_y = train_ex[target]"
   ]
  },
  {
   "cell_type": "markdown",
   "metadata": {},
   "source": [
    "#### Split train and test set\n",
    "- The ratio of train set to test set maybe change the final score`"
   ]
  },
  {
   "cell_type": "code",
   "execution_count": null,
   "metadata": {},
   "outputs": [],
   "source": [
    "X_train, X_test, y_train, y_test = train_test_split(train_x, train_y, test_size=0.40, random_state=1729)  # split train and test"
   ]
  },
  {
   "cell_type": "markdown",
   "metadata": {},
   "source": [
    "#### Importance Feature Selector\n",
    "- Don't need to select some importance features from raw featrues, because before selecting the score is $0.85$, and after selecting the score is $0.77$."
   ]
  },
  {
   "cell_type": "code",
   "execution_count": null,
   "metadata": {},
   "outputs": [],
   "source": [
    "# clf = ExtraTreesClassifier(random_state=2020)\n",
    "# selector = clf.fit(X_train, y_train)"
   ]
  },
  {
   "cell_type": "code",
   "execution_count": null,
   "metadata": {},
   "outputs": [],
   "source": [
    "# fs = SelectFromModel(selector, prefit=True)  # select feature from model\n",
    "\n",
    "# X_train = fs.transform(X_train)\n",
    "# X_test = fs.transform(X_test)\n",
    "# test = fs.transform(test_ex[features])"
   ]
  },
  {
   "cell_type": "markdown",
   "metadata": {},
   "source": [
    "#### Standardization Data\n",
    "- When using the Tree structrue to class the data, Standardization and Normalization operation is unnecessary. you can see https://zhuanlan.zhihu.com/p/64362722"
   ]
  },
  {
   "cell_type": "code",
   "execution_count": null,
   "metadata": {},
   "outputs": [],
   "source": [
    "# ## standard data\n",
    "# X_train = StandardScaler().fit_transform(X_train)\n",
    "# X_test = StandardScaler().fit_transform(X_test)\n",
    "# test = StandardScaler().fit_transform(test)"
   ]
  },
  {
   "cell_type": "markdown",
   "metadata": {},
   "source": [
    "#### Define and Train Model"
   ]
  },
  {
   "cell_type": "code",
   "execution_count": null,
   "metadata": {},
   "outputs": [],
   "source": [
    "m2_xgb = xgb.XGBClassifier(n_estimators=1200, max_depth=9, seed=2020)\n",
    "m2_xgb.fit(X_train, y_train, eval_metric=\"auc\", verbose=False, eval_set=[(X_test, y_test)])\n",
    "#  https://scikit-learn.org/stable/modules/generated/sklearn.metrics.roc_auc_score.html#sklearn.metrics.roc_auc_score\n",
    "y_pre = m2_xgb.predict(X_test)\n",
    "# calculate the auc score\n",
    "print(\"Roc AUC: \", roc_auc_score(y_test, m2_xgb.predict_proba(X_test)[:,1], average='macro'))\n",
    "# Roc AUC:  0.7726366656599214 - test_size=0.40  not-select importance feature\n",
    "# Roc AUC:  0.770009060706735  - test_size=0.40  select importance feature\n",
    "# Roc AUC:  0.7684385382059802 - test_size=0.40 not-select importance feature but standard data, so not need standard"
   ]
  },
  {
   "cell_type": "code",
   "execution_count": null,
   "metadata": {},
   "outputs": [],
   "source": [
    "#### Result Analysis"
   ]
  },
  {
   "cell_type": "code",
   "execution_count": null,
   "metadata": {},
   "outputs": [],
   "source": [
    "plot_confusion_matrix(confusion_matrix(y_test, y_pre), classes=['No', 'Yes'])"
   ]
  },
  {
   "cell_type": "code",
   "execution_count": null,
   "metadata": {},
   "outputs": [],
   "source": [
    "#### Some Conclusion\n",
    "- The probability of predicting Yes to No is too high\n",
    "- Further mining features - Feature engineering"
   ]
  },
  {
   "cell_type": "code",
   "execution_count": null,
   "metadata": {},
   "outputs": [],
   "source": [
    "plot_roc_curve(y_test, m2_xgb.predict_proba(X_test)[:,1])"
   ]
  },
  {
   "cell_type": "markdown",
   "metadata": {},
   "source": [
    "#### Predict the Testset"
   ]
  },
  {
   "cell_type": "code",
   "execution_count": null,
   "metadata": {},
   "outputs": [],
   "source": [
    "probs = m2_xgb.predict_proba(test_ex[features])   # feature don't need standard or normalization"
   ]
  },
  {
   "cell_type": "code",
   "execution_count": null,
   "metadata": {},
   "outputs": [],
   "source": [
    "test_id = test_ex.user_id"
   ]
  },
  {
   "cell_type": "code",
   "execution_count": null,
   "metadata": {},
   "outputs": [],
   "source": [
    "submission = pd.DataFrame({\"user_id\":test_id, \"Attrition\": probs[:,1]})"
   ]
  },
  {
   "cell_type": "markdown",
   "metadata": {},
   "source": [
    "#### Result save to file"
   ]
  },
  {
   "cell_type": "code",
   "execution_count": null,
   "metadata": {},
   "outputs": [],
   "source": [
    "submission.to_csv(f'result-{int(time.time())}.csv', index=False)"
   ]
  },
  {
   "cell_type": "code",
   "execution_count": null,
   "metadata": {},
   "outputs": [],
   "source": [
    "# # these code don't need run\n",
    "# scaler = MinMaxScaler()\n",
    "# x_train = scaler.fit_transform(x_train)\n",
    "# x_test = scaler.fit_transform(x_test)"
   ]
  },
  {
   "cell_type": "markdown",
   "metadata": {},
   "source": [
    "### SVM"
   ]
  },
  {
   "cell_type": "code",
   "execution_count": null,
   "metadata": {},
   "outputs": [],
   "source": [
    "# https://scikit-learn.org/stable/auto_examples/model_selection/plot_roc.html\n",
    "from sklearn.preprocessing import label_binarize\n",
    "from sklearn.multiclass import OneVsRestClassifier\n",
    "from sklearn import svm"
   ]
  },
  {
   "cell_type": "code",
   "execution_count": null,
   "metadata": {},
   "outputs": [],
   "source": [
    "random_state = np.random.RandomState(2020)\n",
    "classifier = OneVsRestClassifier(svm.SVC(kernel='linear', probability=True, random_state=random_state))"
   ]
  },
  {
   "cell_type": "code",
   "execution_count": null,
   "metadata": {},
   "outputs": [],
   "source": [
    "# X_train, X_test, y_train, y_test\n",
    "y_score = classifier.fit(X_train, y_train).decision_function(X_test)"
   ]
  },
  {
   "cell_type": "code",
   "execution_count": null,
   "metadata": {},
   "outputs": [],
   "source": [
    "plt_roc_curve(y_test, y_score)"
   ]
  },
  {
   "cell_type": "markdown",
   "metadata": {},
   "source": [
    "## Multi-Model"
   ]
  },
  {
   "cell_type": "code",
   "execution_count": null,
   "metadata": {},
   "outputs": [],
   "source": [
    "NFOLDS = 5   # the variable for cross-validation folds\n",
    "SEED = 2020"
   ]
  },
  {
   "cell_type": "code",
   "execution_count": null,
   "metadata": {},
   "outputs": [],
   "source": [
    "kf = KFold(n_splits =NFOLDS, shuffle=True, random_state=SEED)\n",
    "kf = StratifiedKFold(n_splits=NFOLDS, random_state=SEED)\n",
    "## the difference between *KFold* and *StratifiedKFold*, you can see https://scikit-learn.org/stable/modules/generated/sklearn.model_selection.StratifiedKFold.html "
   ]
  },
  {
   "cell_type": "code",
   "execution_count": null,
   "metadata": {},
   "outputs": [],
   "source": [
    "class SklearnWrapper(object):\n",
    "    def __init__(self, clf, seed=0, params=None):\n",
    "        params['random_state'] = seed\n",
    "        self.clf = clf(**params)\n",
    "\n",
    "    def train(self, x_train, y_train):\n",
    "        self.clf.fit(x_train, y_train)\n",
    "\n",
    "    def predict(self, x):\n",
    "        return self.clf.predict_proba(x)[:,1]\n",
    "\n",
    "class CatboostWrapper(object):\n",
    "    def __init__(self, clf, seed=0, params=None):\n",
    "        params['random_seed'] = seed\n",
    "        self.clf = clf(**params)\n",
    "\n",
    "    def train(self, x_train, y_train):\n",
    "        self.clf.fit(x_train, y_train)\n",
    "\n",
    "    def predict(self, x):\n",
    "        return self.clf.predict_proba(x)[:,1]\n",
    "        \n",
    "class LightGBMWrapper(object):\n",
    "    def __init__(self, clf, seed=0, params=None):\n",
    "        params['feature_fraction_seed'] = seed\n",
    "        params['bagging_seed'] = seed\n",
    "        self.clf = clf(**params)\n",
    "\n",
    "    def train(self, x_train, y_train):\n",
    "        self.clf.fit(x_train, y_train)\n",
    "\n",
    "    def predict(self, x):\n",
    "        return self.clf.predict_proba(x)[:,1]\n",
    "\n",
    "\n",
    "class XgbWrapper(object):\n",
    "    def __init__(self, seed=0, params=None):\n",
    "        self.param = params\n",
    "        self.param['seed'] = seed\n",
    "        self.nrounds = params.pop('nrounds', 250)\n",
    "\n",
    "    def train(self, x_train, y_train):\n",
    "#         print(x_train, y_train.value_counts())\n",
    "        dtrain = xgb.DMatrix(x_train, label=y_train)\n",
    "        self.gbdt = xgb.train(self.param, dtrain, self.nrounds)\n",
    "\n",
    "    def predict(self, x):\n",
    "        return self.gbdt.predict(xgb.DMatrix(x)) # return proba https://stackoverflow.com/questions/58698313/reading-back-a-saved-lgbmclassifier-model"
   ]
  },
  {
   "cell_type": "markdown",
   "metadata": {},
   "source": [
    "### Each Step of Cross Validation"
   ]
  },
  {
   "cell_type": "code",
   "execution_count": null,
   "metadata": {},
   "outputs": [],
   "source": [
    "def get_oof(clf, ntrain, ntest, x_train, y_train):  # out of fold, which means each step use the k-fold way to cross validate the dataset. \n",
    "    oof_train = np.zeros((ntrain,))\n",
    "    oof_test = np.zeros((ntest,))\n",
    "    oof_test_skf = np.empty((NFOLDS, ntest))\n",
    "\n",
    "#     for i, (train_index, test_index) in enumerate(kf.split(x_train)):\n",
    "    for i, (train_index, test_index) in enumerate(kf.split(x_train, y_train)):\n",
    "        if isinstance(x_train, np.ndarray):\n",
    "            x_tr = x_train[train_index]\n",
    "            y_tr = y_train[train_index]\n",
    "            x_te = x_train[test_index]\n",
    "        else:\n",
    "            x_tr = x_train.iloc[train_index]\n",
    "            y_tr = y_train.iloc[train_index]\n",
    "            x_te = x_train.iloc[test_index]\n",
    "\n",
    "        clf.train(x_tr, y_tr)\n",
    "\n",
    "        oof_train[test_index] = clf.predict(x_te)\n",
    "        oof_test_skf[i, :] = clf.predict(x_test)\n",
    "\n",
    "    oof_test[:] = oof_test_skf.mean(axis=0)\n",
    "    return oof_train.reshape(-1, 1), oof_test.reshape(-1, 1)"
   ]
  },
  {
   "cell_type": "markdown",
   "metadata": {},
   "source": [
    "### Algorithm Parameters"
   ]
  },
  {
   "cell_type": "code",
   "execution_count": null,
   "metadata": {},
   "outputs": [],
   "source": [
    "et_params = {\n",
    "    'n_jobs': 16,\n",
    "    'n_estimators': 600,\n",
    "    'max_features': 0.5,\n",
    "    'max_depth': 12,\n",
    "    'min_samples_leaf': 2,\n",
    "#     'silent': 1,\n",
    "}\n",
    "\n",
    "rf_params = {\n",
    "    'n_jobs': 16,\n",
    "    'n_estimators': 600,\n",
    "    'max_features': 0.2,\n",
    "    'max_depth': 12,\n",
    "    'min_samples_leaf': 2,\n",
    "#     'silent': 1,\n",
    "}\n",
    "\n",
    "xgb_params = {\n",
    "    'booster':'gbtree',\n",
    "    'seed': 2020,\n",
    "    'colsample_bytree': 0.7,\n",
    "    'silent': 1,\n",
    "    'subsample': 0.75,\n",
    "    'learning_rate': 0.075,\n",
    "    'objective': 'binary:logistic',\n",
    "    'max_depth': 7,\n",
    "    'num_parallel_tree': 1,\n",
    "    'min_child_weight': 1,\n",
    "    'nrounds': 200\n",
    "}\n",
    "\n",
    "catboost_params = {\n",
    "    'iterations': 600,\n",
    "    'learning_rate': 0.5,\n",
    "    'depth': 10,\n",
    "    'l2_leaf_reg': 40,\n",
    "    'bootstrap_type': 'Bernoulli',\n",
    "    'subsample': 0.7,\n",
    "    'scale_pos_weight': 5,\n",
    "    'eval_metric': 'AUC',\n",
    "    'od_type': 'Iter',\n",
    "    'allow_writing_files': False,\n",
    "    'silent': True,\n",
    "}\n",
    "\n",
    "lightgbm_params = {\n",
    "    'n_estimators':600,\n",
    "    'learning_rate':0.1,\n",
    "    'num_leaves':123,\n",
    "    'colsample_bytree':0.8,\n",
    "    'subsample':0.9,\n",
    "    'max_depth':15,\n",
    "    'reg_alpha':0.2,\n",
    "    'reg_lambda':0.4,\n",
    "    'min_split_gain':0.01,\n",
    "    'min_child_weight':2,\n",
    "    'silent': 1,\n",
    "}"
   ]
  },
  {
   "cell_type": "markdown",
   "metadata": {},
   "source": [
    "### Define Multi-Model"
   ]
  },
  {
   "cell_type": "code",
   "execution_count": null,
   "metadata": {},
   "outputs": [],
   "source": [
    "xg = XgbWrapper(seed=SEED, params=xgb_params)\n",
    "et = SklearnWrapper(clf=ExtraTreesClassifier, seed=SEED, params=et_params)\n",
    "rf = SklearnWrapper(clf=RandomForestClassifier, seed=SEED, params=rf_params)\n",
    "cb = CatboostWrapper(clf=CatBoostClassifier, seed = SEED, params=catboost_params)\n",
    "lg = LightGBMWrapper(clf=LGBMClassifier, seed = SEED, params = lightgbm_params)"
   ]
  },
  {
   "cell_type": "markdown",
   "metadata": {},
   "source": [
    "### Result"
   ]
  },
  {
   "cell_type": "code",
   "execution_count": null,
   "metadata": {},
   "outputs": [],
   "source": [
    "x_train_multi = train_ex[features]\n",
    "y_train_multi = train_ex[target]\n",
    "x_test = test_ex[features]\n",
    "ntrain_multi = x_train_multi.shape[0]\n",
    "ntest = x_test.shape[0]"
   ]
  },
  {
   "cell_type": "code",
   "execution_count": null,
   "metadata": {},
   "outputs": [],
   "source": [
    "# clf, ntrain, ntest, x_train, y_train\n",
    "xg_oof_train, xg_oof_test = get_oof(xg, ntrain_multi, ntest, x_train_multi, y_train_multi)\n",
    "et_oof_train, et_oof_test = get_oof(et, ntrain_multi, ntest, x_train_multi, y_train_multi)\n",
    "rf_oof_train, rf_oof_test = get_oof(rf, ntrain_multi, ntest, x_train_multi, y_train_multi)\n",
    "cb_oof_train, cb_oof_test = get_oof(cb, ntrain_multi, ntest, x_train_multi, y_train_multi)"
   ]
  },
  {
   "cell_type": "code",
   "execution_count": null,
   "metadata": {},
   "outputs": [],
   "source": [
    "print(\"XG-CV: {}\".format(roc_auc_score(y_train_multi, xg_oof_train)))\n",
    "print(\"ET-CV: {}\".format(roc_auc_score(y_train_multi, et_oof_train)))\n",
    "print(\"RF-CV: {}\".format(roc_auc_score(y_train_multi, rf_oof_train)))\n",
    "print(\"CB-CV: {}\".format(roc_auc_score(y_train_multi, cb_oof_train)))\n",
    "# Fisrt Time\n",
    "# XG-CV: 0.8016840382461883\n",
    "# ET-CV: 0.810093461969162\n",
    "# RF-CV: 0.8077299939701955\n",
    "# CB-CV: 0.7908357739684727"
   ]
  },
  {
   "cell_type": "markdown",
   "metadata": {},
   "source": [
    "### Cross Validation(CV) Conclusion\n",
    "- Catboost algorithm is some week. so not emumate the model for predict"
   ]
  },
  {
   "cell_type": "markdown",
   "metadata": {},
   "source": [
    "### Concat the result"
   ]
  },
  {
   "cell_type": "code",
   "execution_count": null,
   "metadata": {},
   "outputs": [],
   "source": [
    "x_train_fin = np.concatenate((xg_oof_train, et_oof_train, rf_oof_train), axis=1)\n",
    "x_test_fin = np.concatenate((xg_oof_test, et_oof_test, rf_oof_test), axis=1)\n",
    "\n",
    "print(\"{},{}\".format(x_train_fin.shape, x_test_fin.shape))"
   ]
  },
  {
   "cell_type": "markdown",
   "metadata": {},
   "source": [
    "### LogisticRegression Model predict the results"
   ]
  },
  {
   "cell_type": "code",
   "execution_count": null,
   "metadata": {},
   "outputs": [],
   "source": [
    "logistic_regression = LogisticRegression()\n",
    "logistic_regression.fit(x_train_fin, y_train_multi)\n",
    "result = pd.DataFrame()\n",
    "result['user_id'] = test_ex['user_id']\n",
    "result['Attrition'] = logistic_regression.predict_proba(x_test_fin)[:,1]"
   ]
  },
  {
   "cell_type": "code",
   "execution_count": null,
   "metadata": {},
   "outputs": [],
   "source": [
    "result[['user_id', 'Attrition']].to_csv(f'result-{int(time.time())}.csv', index=False, float_format='%.8f')"
   ]
  },
  {
   "cell_type": "markdown",
   "metadata": {},
   "source": [
    "## Imbalance Data\n",
    "- Resamping: Undersampling and Oversampling"
   ]
  },
  {
   "cell_type": "code",
   "execution_count": null,
   "metadata": {},
   "outputs": [],
   "source": [
    "count_class_0, count_class_1 = train_ex.Attrition.value_counts()\n",
    "df_class_0, df_class_1 = train_ex[train_ex[target] == 0], train_ex[train_ex[target] == 1]"
   ]
  },
  {
   "cell_type": "markdown",
   "metadata": {},
   "source": [
    "### Under-Sampling\n",
    "- Random under-sampling"
   ]
  },
  {
   "cell_type": "code",
   "execution_count": null,
   "metadata": {},
   "outputs": [],
   "source": [
    "df_class_0_under = df_class_0.sample(count_class_1)\n",
    "df_train_under = pd.concat([df_class_0_under, df_class_1], axis=0)\n",
    "print('Random under-sampling:')\n",
    "print(df_train_under.Attrition.value_counts())\n",
    "\n",
    "df_train_under.Attrition.value_counts().plot(kind='bar', title='Count (target)');"
   ]
  },
  {
   "cell_type": "code",
   "execution_count": null,
   "metadata": {},
   "outputs": [],
   "source": [
    "x_train_under_sampling = df_train_under[features].copy()\n",
    "y_train_under_sampling = df_train_under[target]\n",
    "ntrain_under_sampling = y_train_under_sampling.shape[0]"
   ]
  },
  {
   "cell_type": "code",
   "execution_count": null,
   "metadata": {},
   "outputs": [],
   "source": [
    "# clf, ntrain, ntest, x_train, y_train\n",
    "xg_oof_train, xg_oof_test = get_oof(xg, ntrain_under_sampling, ntest, x_train_under_sampling, y_train_under_sampling)\n",
    "et_oof_train, et_oof_test = get_oof(et, ntrain_under_sampling, ntest, x_train_under_sampling, y_train_under_sampling)\n",
    "rf_oof_train, rf_oof_test = get_oof(rf, ntrain_under_sampling, ntest, x_train_under_sampling, y_train_under_sampling)\n",
    "cb_oof_train, cb_oof_test = get_oof(cb, ntrain_under_sampling, ntest, x_train_under_sampling, y_train_under_sampling)"
   ]
  },
  {
   "cell_type": "code",
   "execution_count": null,
   "metadata": {},
   "outputs": [],
   "source": [
    "print(\"XG-CV: {}\".format(roc_auc_score(y_train_under_sampling, xg_oof_train)))\n",
    "print(\"ET-CV: {}\".format(roc_auc_score(y_train_under_sampling, et_oof_train)))\n",
    "print(\"RF-CV: {}\".format(roc_auc_score(y_train_under_sampling, rf_oof_train)))\n",
    "print(\"CB-CV: {}\".format(roc_auc_score(y_train_under_sampling, cb_oof_train)))\n",
    "# XG-CV: 0.773228836577637\n",
    "# ET-CV: 0.7693809416025351\n",
    "# RF-CV: 0.7701731552738798\n",
    "# CB-CV: 0.7287799909461297"
   ]
  },
  {
   "cell_type": "code",
   "execution_count": null,
   "metadata": {},
   "outputs": [],
   "source": [
    "X_train, X_test, y_train, y_test = train_test_split(x_train_under_sampling, y_train_under_sampling, test_size=0.40, random_state=1729)  # split train and test"
   ]
  },
  {
   "cell_type": "code",
   "execution_count": null,
   "metadata": {},
   "outputs": [],
   "source": [
    "m2_xgb = xgb.XGBClassifier(n_estimators=1600, max_depth=8, seed=2020)\n",
    "m2_xgb.fit(X_train, y_train, eval_metric=\"auc\", verbose=False, eval_set=[(X_test, y_test)])\n",
    "#  https://scikit-learn.org/stable/modules/generated/sklearn.metrics.roc_auc_score.html#sklearn.metrics.roc_auc_score\n",
    "y_pre = m2_xgb.predict(X_test)\n",
    "# calculate the auc score\n",
    "print(\"Roc AUC: \", roc_auc_score(y_test, m2_xgb.predict_proba(X_test)[:,1], average='macro'))"
   ]
  },
  {
   "cell_type": "markdown",
   "metadata": {},
   "source": [
    "### Over-Sampling\n",
    "- 0.79561"
   ]
  },
  {
   "cell_type": "code",
   "execution_count": null,
   "metadata": {},
   "outputs": [],
   "source": [
    "df_class_1_over = df_class_1.sample(count_class_0, replace=True)\n",
    "df_train_over = pd.concat([df_class_0, df_class_1_over], axis=0)\n",
    "\n",
    "print('Random over-sampling:')\n",
    "print(df_train_over.Attrition.value_counts())\n",
    "\n",
    "df_train_over.Attrition.value_counts().plot(kind='bar', title='Count (target)');"
   ]
  },
  {
   "cell_type": "code",
   "execution_count": null,
   "metadata": {},
   "outputs": [],
   "source": [
    "x_train_over_samping = df_train_over[features]\n",
    "y_train_over_samping = df_train_over[target]\n",
    "ntrain_over_samping = y_train_over_samping.shape[0]"
   ]
  },
  {
   "cell_type": "code",
   "execution_count": null,
   "metadata": {},
   "outputs": [],
   "source": [
    "# clf, ntrain, ntest, x_train, y_train\n",
    "xg_oof_train, xg_oof_test = get_oof(xg, ntrain_over_samping, ntest, x_train_over_samping, y_train_over_samping)\n",
    "et_oof_train, et_oof_test = get_oof(et, ntrain_over_samping, ntest, x_train_over_samping, y_train_over_samping)\n",
    "rf_oof_train, rf_oof_test = get_oof(rf, ntrain_over_samping, ntest, x_train_over_samping, y_train_over_samping)\n",
    "cb_oof_train, cb_oof_test = get_oof(cb, ntrain_over_samping, ntest, x_train_over_samping, y_train_over_samping)"
   ]
  },
  {
   "cell_type": "code",
   "execution_count": null,
   "metadata": {},
   "outputs": [],
   "source": [
    "print(\"XG-CV: {}\".format(roc_auc_score(y_train_over_samping, xg_oof_train)))\n",
    "print(\"ET-CV: {}\".format(roc_auc_score(y_train_over_samping, et_oof_train)))\n",
    "print(\"RF-CV: {}\".format(roc_auc_score(y_train_over_samping, rf_oof_train)))\n",
    "print(\"CB-CV: {}\".format(roc_auc_score(y_train_over_samping, cb_oof_train)))"
   ]
  },
  {
   "cell_type": "code",
   "execution_count": null,
   "metadata": {},
   "outputs": [],
   "source": [
    "x_train_fin = np.concatenate((xg_oof_train, et_oof_train, rf_oof_train, cb_oof_train), axis=1)\n",
    "x_test_fin = np.concatenate((xg_oof_test, et_oof_test, rf_oof_test, cb_oof_test), axis=1)\n",
    "\n",
    "print(\"{},{}\".format(x_train_fin.shape, x_test_fin.shape))"
   ]
  },
  {
   "cell_type": "code",
   "execution_count": null,
   "metadata": {},
   "outputs": [],
   "source": [
    "logistic_regression = LogisticRegression()\n",
    "logistic_regression.fit(x_train_fin, y_train_over_samping)\n",
    "result = pd.DataFrame()\n",
    "result['user_id'] = test_ex['user_id']\n",
    "result['Attrition'] = logistic_regression.predict_proba(x_test_fin)[:,1]"
   ]
  },
  {
   "cell_type": "code",
   "execution_count": null,
   "metadata": {},
   "outputs": [],
   "source": [
    "result[['user_id', 'Attrition']].to_csv(f'result-{int(time.time())}.csv', index=False, float_format='%.8f')"
   ]
  },
  {
   "cell_type": "markdown",
   "metadata": {},
   "source": [
    "### SMOTE(Synthetic Minority Oversampling Technique)\n",
    "- Leaderboard:0.82202**"
   ]
  },
  {
   "cell_type": "code",
   "execution_count": null,
   "metadata": {},
   "outputs": [],
   "source": [
    "from imblearn.over_sampling import SMOTE"
   ]
  },
  {
   "cell_type": "code",
   "execution_count": null,
   "metadata": {},
   "outputs": [],
   "source": [
    "smote = SMOTE(ratio='minority')\n",
    "X_sm, y_sm = smote.fit_sample(train_ex[features], train_ex[target])"
   ]
  },
  {
   "cell_type": "code",
   "execution_count": null,
   "metadata": {},
   "outputs": [],
   "source": [
    "# clf, ntrain, ntest, x_train, y_train\n",
    "xg_oof_train, xg_oof_test = get_oof(xg, X_sm.shape[0], ntest, X_sm, y_sm)\n",
    "et_oof_train, et_oof_test = get_oof(et, X_sm.shape[0], ntest, X_sm, y_sm)\n",
    "rf_oof_train, rf_oof_test = get_oof(rf, X_sm.shape[0], ntest, X_sm, y_sm)\n",
    "cb_oof_train, cb_oof_test = get_oof(cb, X_sm.shape[0], ntest, X_sm, y_sm)"
   ]
  },
  {
   "cell_type": "code",
   "execution_count": null,
   "metadata": {},
   "outputs": [],
   "source": [
    "print(\"XG-CV: {}\".format(roc_auc_score(y_sm, xg_oof_train)))\n",
    "print(\"ET-CV: {}\".format(roc_auc_score(y_sm, et_oof_train)))\n",
    "print(\"RF-CV: {}\".format(roc_auc_score(y_sm, rf_oof_train)))\n",
    "print(\"CB-CV: {}\".format(roc_auc_score(y_sm, cb_oof_train)))"
   ]
  },
  {
   "cell_type": "code",
   "execution_count": null,
   "metadata": {},
   "outputs": [],
   "source": [
    "x_train_fin = np.concatenate((xg_oof_train, et_oof_train, rf_oof_train, cb_oof_train), axis=1)\n",
    "x_test_fin = np.concatenate((xg_oof_test, et_oof_test, rf_oof_test, cb_oof_test), axis=1)\n",
    "\n",
    "print(\"{},{}\".format(x_train_fin.shape, x_test_fin.shape))"
   ]
  },
  {
   "cell_type": "code",
   "execution_count": null,
   "metadata": {},
   "outputs": [],
   "source": [
    "logistic_regression = LogisticRegression()\n",
    "logistic_regression.fit(x_train_fin, y_train_over_samping)\n",
    "result = pd.DataFrame()\n",
    "result['user_id'] = test_ex['user_id']\n",
    "result['Attrition'] = logistic_regression.predict_proba(x_test_fin)[:,1]"
   ]
  },
  {
   "cell_type": "code",
   "execution_count": null,
   "metadata": {},
   "outputs": [],
   "source": [
    "result[['user_id', 'Attrition']].to_csv(f'result-{int(time.time())}.csv', index=False, float_format='%.8f')"
   ]
  },
  {
   "cell_type": "code",
   "execution_count": null,
   "metadata": {},
   "outputs": [],
   "source": [
    "### Over-sampling followed by under-sampling\n",
    "- we will do a combination of over-sampling and under-sampling, using the **SMOTE** and **Tomek links** techniques:"
   ]
  }
 ],
 "metadata": {
  "kernelspec": {
   "display_name": "Python 3",
   "language": "python",
   "name": "python3"
  },
  "language_info": {
   "codemirror_mode": {
    "name": "ipython",
    "version": 3
   },
   "file_extension": ".py",
   "mimetype": "text/x-python",
   "name": "python",
   "nbconvert_exporter": "python",
   "pygments_lexer": "ipython3",
   "version": "3.7.4"
  }
 },
 "nbformat": 4,
 "nbformat_minor": 4
}
